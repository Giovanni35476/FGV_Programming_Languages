{
 "cells": [
  {
   "cell_type": "markdown",
   "metadata": {},
   "source": [
    "1 - Dadas uma lista qualquer, como a do exemplo abaixo:"
   ]
  },
  {
   "cell_type": "code",
   "execution_count": null,
   "metadata": {},
   "outputs": [],
   "source": [
    "lista = [1,2,3,'4',5,6.3,7.4 + 2j,\"123\",[1,2,3], 93, \"98\", (1,2,3,'4')]"
   ]
  },
  {
   "cell_type": "markdown",
   "metadata": {},
   "source": [
    "Crie uma função recursiva para imprimir o antecessor e o sucessor de cada elemento de uma lista:\n",
    "+ Caso este elemento seja inteiro, imprimir o valor;  \n",
    "+ Caso seja uma string, imprimir o inteiro correspondente;  \n",
    "+ Caso seja um real, imprima a parte inteira;\n",
    "+ Caso seja um imaginário, imprima a parte inteira e real;\n",
    "+ Caso seja uma sequência, aplique as regras acima para cada elemento da sequência.  "
   ]
  },
  {
   "cell_type": "code",
   "execution_count": 35,
   "metadata": {},
   "outputs": [
    {
     "ename": "SyntaxError",
     "evalue": "'break' outside loop (<ipython-input-35-f6f014961d3e>, line 4)",
     "output_type": "error",
     "traceback": [
      "\u001b[0;36m  File \u001b[0;32m\"<ipython-input-35-f6f014961d3e>\"\u001b[0;36m, line \u001b[0;32m4\u001b[0m\n\u001b[0;31m    break\u001b[0m\n\u001b[0m    ^\u001b[0m\n\u001b[0;31mSyntaxError\u001b[0m\u001b[0;31m:\u001b[0m 'break' outside loop\n"
     ]
    }
   ],
   "source": [
    "def funrec(l):\n",
    "    l2=l\n",
    "    if l2==[]:\n",
    "        break\n",
    "    i=l2[0]\n",
    "    if type(i)==int:\n",
    "        print(i-1)\n",
    "        print(i+1)\n",
    "        print( )\n",
    "    elif type(i)==str:\n",
    "        print(int(i)-1)\n",
    "        print(int(i)+1)\n",
    "        print( )\n",
    "    elif type(i)==float:\n",
    "        print(int(i)-1)\n",
    "        print(int(i)+1)\n",
    "        print( )\n",
    "    elif type(i)==complex:\n",
    "        print(int(i.real)-1)\n",
    "        print(int(i.real)+1)\n",
    "        print( )\n",
    "    elif type(i)==list or type(i)==tuple:\n",
    "        for j in i:\n",
    "            if type(j)==int:\n",
    "                print(j-1)\n",
    "                print(j+1)\n",
    "                print( )\n",
    "            elif type(j)==str:\n",
    "                print(int(j)-1)\n",
    "                print(int(j)+1)\n",
    "                print( )\n",
    "            elif type(j)==float:\n",
    "                print(int(j)-1)\n",
    "                print(int(j)+1)\n",
    "                print( )\n",
    "            elif type(j)==complex:\n",
    "                print(int(j.real)-1)\n",
    "                print(int(j.real)+1)\n",
    "                print( )\n",
    "    while l2!=[]:\n",
    "        l2.remove(i)\n",
    "        funrec(l2)\n",
    "funrec(lista)"
   ]
  },
  {
   "cell_type": "markdown",
   "metadata": {},
   "source": [
    "2 - Crie uma função, ou conjunto de funções, para exibir por extenso o valor de qualquer número inteiro até 1000.  \n",
    "Exemplo:  \n",
    "\n",
    "    print(imprime_extenso(234))  \n",
    "    > 'duzentos e trinta e quatro'  "
   ]
  },
  {
   "cell_type": "code",
   "execution_count": 2,
   "metadata": {
    "collapsed": true
   },
   "outputs": [],
   "source": [
    "def is_in(elemento,lista):\n",
    "    c=0\n",
    "    for i in lista:\n",
    "        if i == elemento:\n",
    "            c+=1\n",
    "    if c == 0:\n",
    "        return False\n",
    "    else:\n",
    "        return True    "
   ]
  },
  {
   "cell_type": "code",
   "execution_count": 19,
   "metadata": {},
   "outputs": [
    {
     "name": "stdout",
     "output_type": "stream",
     "text": [
      "trinta e sete\n"
     ]
    }
   ],
   "source": [
    "def imprime_extenso(n):\n",
    "    dic={\n",
    "        0:'',1:'um',2:'dois',3:'três',4:'quatro',5:'cinco',6:'seis',7:'sete',8:'oito',9:'nove',10:'dez',\n",
    "        11:'onze',12:'doze',13:'treze',14:'quatorze',15:'quinze',16:'dezesseis',17:'dezessete',18:'dezoito',\n",
    "        19:'dezenove',20:'vinte',30:'trinta',40:'quarenta',50:'cinquenta',60:'sessenta',70:'setenta',80:'oitenta',\n",
    "        90:'noventa',100:'cento',200:'duzentos',300:'trezentos',400:'quatrocentos',500:'quinhentos',600:'seiscentos',\n",
    "        700:'setecentos',800:'oitocentos',900:'novecentos',1000:'mil'\n",
    "    }\n",
    "    if is_in(n,list(dic.keys())):\n",
    "        if n==100:\n",
    "            print('cem')\n",
    "        else:\n",
    "            print(dic[n])\n",
    "    else:\n",
    "        if n<100:\n",
    "            unidade = n % 10\n",
    "            decimal = n - unidade\n",
    "            if decimal!=0:\n",
    "                print(dic[decimal]+' e '+dic[unidade])\n",
    "            else:\n",
    "                print(dic[unidade])\n",
    "        else:\n",
    "            unidade = n%10\n",
    "            decimal= n%100 - unidade\n",
    "            centena= n - decimal - unidade\n",
    "            if decimal==0:\n",
    "                print(dic[centena]+' e '+dic[unidade])\n",
    "            elif unidade==0:\n",
    "                print(dic[centena]+' e '+dic[decimal])\n",
    "            else:\n",
    "                print(dic[centena]+' e '+dic[decimal]+' e '+dic[unidade])\n",
    "imprime_extenso(37)"
   ]
  },
  {
   "cell_type": "markdown",
   "metadata": {},
   "source": [
    "3- Em alguns lugares é comum lembrar um número do telefone associando seus dígitos a letras. Dessa maneira a expressão MY LOVE significa 69 5683. Claro que existem alguns problemas, uma vez que alguns números de telefone não formam uma palavra ou uma frase e os dígitos 1 e 0 não estão associados a nenhuma letra.  \n",
    "\n",
    "Sua tarefa é ler uma expressão e encontrar o número de telefone correspondente baseado na tabela abaixo. Uma expressão é composta por letras maiúsculas (A-Z), hifens (-) e os números 1 e 0.  \n",
    "\n",
    "Letras  ->  Número \n",
    "ABC    ->  2 \n",
    "DEF    ->  3 \n",
    "GHI    ->  4 \n",
    "JKL    ->  5 \n",
    "MNO    ->  6 \n",
    "PQRS    ->  7 \n",
    "TUV    ->  8 \n",
    "WXYZ   ->  9 \n",
    "\n",
    "Entrada  \n",
    "\n",
    "A entrada consiste de um conjunto de expressões. Cada expressão está sozinha em uma linha e possui C caracteres, onde 1 ≤ C ≤ 30. A entrada é terminada por fim de arquivo (EOF).  \n",
    "\n",
    "Saída  \n",
    "\n",
    "Para cada expressão você deve imprimir o número de telefone correspondente.  \n",
    "\n",
    "Exemplo de entrada:  \n",
    "\n",
    "1-HOME-SWEET-HOME  \n",
    "MY-MISERABLE-JOB  \n",
    "\n",
    "Saída correspondente:\n",
    "\n",
    "1-4663-79338-4663  \n",
    "69-647372253-562  "
   ]
  },
  {
   "cell_type": "code",
   "execution_count": 23,
   "metadata": {},
   "outputs": [
    {
     "name": "stdout",
     "output_type": "stream",
     "text": [
      "1-HOME-SWEET-HOME\n",
      "1-4663-79338-4663\n"
     ]
    }
   ],
   "source": [
    "exp = input()\n",
    "saida=[]\n",
    "dic={\n",
    "    'A':2,'B':2,'C':2,'D':3,'E':3,'F':3,'G':4,'H':4,'I':4,'J':5,'K':5,'L':5,\n",
    "    'M':6,'N':6,'O':6,'P':7,'Q':7,'R':7,'S':7,'T':8,'U':8,'V':8,'W':9,'X':9,\n",
    "    'Y':9,'Z':9\n",
    "}\n",
    "for i in list(exp):\n",
    "    if is_in(i,['0','1','-'])==True:\n",
    "        saida.append(i)\n",
    "    else:\n",
    "        saida.append(str(dic[i]))\n",
    "string=''\n",
    "for i in saida:\n",
    "    string+=i\n",
    "print(string)"
   ]
  },
  {
   "cell_type": "markdown",
   "metadata": {},
   "source": [
    "4- Dada um texto em formato string, encontre todas as palavras pertencentes a esta string que contenham uma determinada letra, passada como parâmetro. "
   ]
  },
  {
   "cell_type": "code",
   "execution_count": 20,
   "metadata": {},
   "outputs": [
    {
     "name": "stdout",
     "output_type": "stream",
     "text": [
      "Programar\n",
      "legal\n"
     ]
    }
   ],
   "source": [
    "def palavras(texto,letra):\n",
    "    dic={}\n",
    "    c=0\n",
    "    lista=[]\n",
    "    for i in list(texto):\n",
    "        if i == ' ':\n",
    "            dic[c]=lista\n",
    "            lista=[]\n",
    "            c+=1\n",
    "        else:\n",
    "            lista.append(i)\n",
    "    dic[c]=lista\n",
    "    for i in dic:\n",
    "        if is_in(letra,dic[i]) == True:\n",
    "            str=''\n",
    "            for j in dic[i]:\n",
    "                str+=j\n",
    "            print(str)\n",
    "        else:\n",
    "            pass\n",
    "palavras('Programar é muito legal','a')"
   ]
  },
  {
   "cell_type": "code",
   "execution_count": null,
   "metadata": {
    "collapsed": true
   },
   "outputs": [],
   "source": []
  }
 ],
 "metadata": {
  "kernelspec": {
   "display_name": "Python 3",
   "language": "python",
   "name": "python3"
  },
  "language_info": {
   "codemirror_mode": {
    "name": "ipython",
    "version": 3
   },
   "file_extension": ".py",
   "mimetype": "text/x-python",
   "name": "python",
   "nbconvert_exporter": "python",
   "pygments_lexer": "ipython3",
   "version": "3.5.2+"
  }
 },
 "nbformat": 4,
 "nbformat_minor": 2
}
